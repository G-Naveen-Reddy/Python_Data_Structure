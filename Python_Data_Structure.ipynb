{
  "nbformat": 4,
  "nbformat_minor": 0,
  "metadata": {
    "colab": {
      "provenance": []
    },
    "kernelspec": {
      "name": "python3",
      "display_name": "Python 3"
    },
    "language_info": {
      "name": "python"
    }
  },
  "cells": [
    {
      "cell_type": "code",
      "execution_count": null,
      "metadata": {
        "id": "H1j3vbsru9G3"
      },
      "outputs": [],
      "source": []
    },
    {
      "cell_type": "markdown",
      "source": [],
      "metadata": {
        "id": "gr0bEH8A8C6B"
      }
    },
    {
      "cell_type": "markdown",
      "source": [
        "1. What are data structures, and why are they important ?\n",
        "- Data structures are organized ways to store, manage, and retrieve data efficiently. They define how data is arranged in memory and how operations like insertion, deletion, and traversal are performed.\n",
        "\n",
        " Importance:\n",
        "\n",
        " Efficiency: They optimize data processing and reduce time complexity.\n",
        "Organization: Help in arranging data logically for easy access.\n",
        "Performance: Enhance the performance of algorithms by using the right structure.\n",
        "Problem Solving: Essential for solving complex problems like searching, sorting, and graph traversal.\n",
        "  \n",
        "  Examples: Arrays, Linked Lists, Stacks, Queues, Trees, Graphs, and Hash Tables.\n"
      ],
      "metadata": {
        "id": "f4GHrHidxeRT"
      }
    },
    {
      "cell_type": "markdown",
      "source": [
        "2. Explain the difference between mutable and immutable data types with examples\n",
        "-  In Python, mutable and immutable data types refer to whether an object’s state (its data) can be changed after creation.\n",
        "\n",
        " Mutable Data Types:\n",
        "Can be changed after creation.\n",
        "Modifying the object does not change its memory address.\n",
        "Examples:\n",
        "Lists: my_list = [1, 2, 3] → my_list[0] = 10\n",
        "Dictionaries: my_dict = {\"a\": 1} → my_dict[\"a\"] = 5\n",
        "Sets: my_set = {1, 2, 3} → my_set.add(4)\n",
        "\n",
        " Immutable Data Types:\n",
        "Cannot be changed after creation.\n",
        "Any modification creates a new object with a different memory address.\n",
        "Examples:\n",
        "Tuples: my_tuple = (1, 2, 3) → Cannot change elements.\n",
        "Strings: my_str = \"hello\" → my_str = \"world\" (new string, new address)\n",
        "Integers/Floats: x = 5 → x = 10 (new integer object)"
      ],
      "metadata": {
        "id": "rw4IIDoDxsOL"
      }
    },
    {
      "cell_type": "markdown",
      "source": [
        "3. What are the main differences between lists and tuples in Python ?\n",
        "-  Lists in Python:\n",
        "Mutability: Lists are mutable, meaning their elements can be changed after creation.\n",
        "Syntax: Defined using square brackets [].\n",
        "python\n",
        "Copy code\n",
        "my_list = [1, 2, 3]\n",
        "my_list[0] = 10  # Modifying the first element\n",
        "print(my_list)  # Output: [10, 2, 3]\n",
        "Performance: Slower because they support modification.\n",
        "Memory Usage: Takes more memory due to dynamic resizing.\n",
        "Use Case: Suitable when data needs frequent updates or modifications.\n",
        "  \n",
        "  Tuples in Python:\n",
        "\n",
        " Mutability: Tuples are immutable, meaning their elements cannot be changed after creation.\n",
        "Syntax: Defined using parentheses ().\n",
        "\n",
        " python Copy code\n",
        "\n",
        " my_tuple = (1, 2, 3)\n",
        "my_tuple[0] = 10  # This will raise a TypeError\n",
        "Performance: Faster due to immutability.\n",
        "Memory Usage: Takes less memory compared to lists.\n",
        "Use Case: Suitable for fixed data that should not change.\n",
        "\n"
      ],
      "metadata": {
        "id": "_RwWfm44zyJs"
      }
    },
    {
      "cell_type": "markdown",
      "source": [],
      "metadata": {
        "id": "3AgwHMnk0pW5"
      }
    },
    {
      "cell_type": "markdown",
      "source": [
        "4. Describe how dictionaries store data?\n",
        "- Dictionaries in Python store data as key-value pairs. Each key is associated with a specific value, and together they form an entry in the dictionary.\n",
        "\n",
        " 1.Storage Mechanism:\n",
        "Dictionaries use a hash table under the hood.\n",
        "Each key is hashed to generate a unique hash value, which determines its position in the table.\n",
        "The value is stored at the location pointed to by the hash of the key.\n",
        "\n",
        " 2.Key Characteristics:\n",
        "Fast Lookup: Accessing values using keys is very efficient (average O(1) time complexity).\n",
        "Unique Keys: Keys must be unique and immutable (like strings, numbers, or tuples).\n",
        "Dynamic: Dictionaries can grow and shrink as items are added or removed.\n",
        "\n"
      ],
      "metadata": {
        "id": "eXaEa7W60qVW"
      }
    },
    {
      "cell_type": "markdown",
      "source": [
        "5. Why might you use a set instead of a list in Python ?\n",
        "- You might use a set instead of a list in Python for the following reasons:\n",
        "\n",
        " Uniqueness: Sets automatically eliminate duplicate elements, while lists can contain duplicates.\n",
        "\n",
        " Efficiency: Sets offer faster membership tests (in checks) compared to lists, as they use a hash table (O(1) time complexity).\n",
        "Mathematical Operations: Sets support operations like union, intersection, and difference, making them ideal for mathematical computations.\n",
        "\n",
        " Unordered Collection: Sets do not maintain element order, unlike lists which preserve the insertion order.\n"
      ],
      "metadata": {
        "id": "N4o46aNQ1esz"
      }
    },
    {
      "cell_type": "markdown",
      "source": [],
      "metadata": {
        "id": "n8SmLgV715e_"
      }
    },
    {
      "cell_type": "markdown",
      "source": [
        "6. What is a string in Python, and how is it different from a list ?\n",
        "- A string in Python is a sequence of characters enclosed in quotes ('...' or \"...\"). It is immutable, meaning it cannot be changed after creation. Strings are used to store and manipulate text data.\n",
        "\n",
        " A list is a collection of items enclosed in square brackets ([]). It is mutable, allowing elements to be added, removed, or modified. Lists can store any data type, while strings only store characters.\n",
        "\n",
        " Key Difference:\n",
        "\n",
        " Mutability: Strings are immutable, while lists are mutable.\n",
        "Data Type: Strings hold text, while lists can hold any data type.\n",
        "Usage: Strings are used for textual data, and lists are used for collections of items.\n"
      ],
      "metadata": {
        "id": "OkG0o3Yo17JB"
      }
    },
    {
      "cell_type": "markdown",
      "source": [
        "7. How do tuples ensure data integrity in Python?\n",
        "- Tuples ensure data integrity in Python because they are immutable, meaning once created, their elements cannot be changed, added, or removed. This immutability prevents accidental modifications, making tuples reliable for storing constant data or data that should not be altered throughout the program.\n",
        "\n",
        " By maintaining a fixed structure, tuples help preserve the integrity and consistency of data, especially when passing data between functions or working with read-only datasets.\n",
        "\n",
        "\n",
        "\n",
        "\n",
        "\n",
        "\n",
        "\n"
      ],
      "metadata": {
        "id": "r4_RMqNL28Wh"
      }
    },
    {
      "cell_type": "markdown",
      "source": [
        "8. What is a hash table, and how does it relate to dictionaries in Python ?\n",
        "- A hash table is a data structure that stores key-value pairs. It uses a hash function to convert keys into unique hash values (or indices) that determine where the corresponding value is stored in memory.\n",
        "\n",
        " In Python, dictionaries are implemented using hash tables. The keys are hashed to quickly locate the associated values, allowing for fast data retrieval (average O(1) time complexity). This makes dictionaries highly efficient for lookups, insertions, and deletions.\n"
      ],
      "metadata": {
        "id": "QXUqQRGu3M1q"
      }
    },
    {
      "cell_type": "markdown",
      "source": [
        "9.Can lists contain different data types in Python?\n",
        "- Yes, lists in Python can contain different data types. A single list can hold integers, floats, strings, objects, or even other lists. This flexibility makes lists versatile for storing heterogeneous data.\n"
      ],
      "metadata": {
        "id": "kWS_WLS-3cFH"
      }
    },
    {
      "cell_type": "markdown",
      "source": [
        "10.Explain why strings are immutable in Python?\n",
        "- Strings are immutable in Python to ensure data integrity and efficiency. Once created, a string cannot be changed. This immutability makes strings memory-efficient because they can be safely shared between different parts of a program without the risk of accidental modification. It also allows Python to internally optimize string storage and reuse.\n"
      ],
      "metadata": {
        "id": "kcjgo7Ep3q-e"
      }
    },
    {
      "cell_type": "markdown",
      "source": [
        "11. What advantages do dictionaries offer over lists for certain tasks?\n",
        "- Dictionaries offer several advantages over lists for certain tasks:\n",
        "\n",
        " 1.Fast Lookups: Dictionaries provide O(1) average time complexity for accessing values by keys, while lists take O(n) for searching.\n",
        "\n",
        " 2.Key-Value Pair Storage: They store data as key-value pairs, making it easy to map and retrieve data based on a unique identifier.\n",
        "\n",
        " 3.Data Organization: Ideal for scenarios where you need to associate related data (like a name with a phone number).\n",
        "\n",
        " 4.Efficient Updates: Updating or adding key-value pairs is fast and straightforward.\n"
      ],
      "metadata": {
        "id": "XUu7y_pY35i7"
      }
    },
    {
      "cell_type": "markdown",
      "source": [
        "12. Describe a scenario where using a tuple would be preferable over a list ?\n",
        "- A tuple would be preferable over a list when you need to store fixed, unchanging data that should remain constant throughout the program.\n",
        "\n",
        " Scenario: Storing geographical coordinates (like latitude and longitude) or configuration settings that shouldn't be modified. Since tuples are immutable, they ensure data integrity and prevent accidental changes. Additionally, they are memory-efficient and offer faster performance compared to lists.\n"
      ],
      "metadata": {
        "id": "h8muWB7b4OiS"
      }
    },
    {
      "cell_type": "markdown",
      "source": [
        "13. How do sets handle duplicate values in Python?\n",
        "- Sets in Python automatically eliminate duplicate values. When you add elements to a set, any duplicates are discarded, and only unique values are stored. This makes sets ideal for situations where you need to maintain a collection of distinct items, like removing duplicates from a list or performing mathematical set operations.\n"
      ],
      "metadata": {
        "id": "mrK_ymTB4cdK"
      }
    },
    {
      "cell_type": "markdown",
      "source": [
        "14. How does the “in” keyword work differently for lists and dictionaries?\n",
        "- The in keyword works differently for lists and dictionaries in Python:\n",
        "\n",
        " 1.For Lists: It checks whether a specific value exists in the list by iterating through each element. This process has a time complexity of O(n).\n",
        "\n",
        " 2.For Dictionaries: It checks whether a specific key exists (not the value) by directly accessing the hash table. This is much faster, with an average time complexity of O(1).\n"
      ],
      "metadata": {
        "id": "4N2rV6Sq4pIq"
      }
    },
    {
      "cell_type": "markdown",
      "source": [
        "15. Can you modify the elements of a tuple? Explain why or why not ?\n",
        "- No, you cannot modify the elements of a tuple because tuples are immutable in Python. Once a tuple is created, its elements cannot be changed, added, or removed. This immutability ensures data integrity and makes tuples more memory-efficient and faster compared to mutable data types like lists.\n"
      ],
      "metadata": {
        "id": "8u61w7Pn44qk"
      }
    },
    {
      "cell_type": "markdown",
      "source": [
        "16. What is a nested dictionary, and give an example of its use case?\n",
        "- A nested dictionary is a dictionary that contains one or more dictionaries as its values. It is used to store complex, hierarchical data in a structured way.\n",
        "\n",
        " Use Case: Storing information about students where each student has multiple attributes (like name, age, and grades). Nested dictionaries make it easy to organize and access related data efficiently.\n"
      ],
      "metadata": {
        "id": "mBc_3G-W5Gai"
      }
    },
    {
      "cell_type": "markdown",
      "source": [
        "17. Describe the time complexity of accessing elements in a dictionary?\n",
        "- The time complexity of accessing elements in a dictionary is O(1) on average. This is because dictionaries use hash tables, allowing for direct access to values based on their keys.\n",
        "\n",
        " In the worst case (when hash collisions occur), the time complexity can be O(n), but this is rare with a good hash function. Generally, dictionaries provide fast and efficient lookups.\n"
      ],
      "metadata": {
        "id": "zCbOFlBB5R90"
      }
    },
    {
      "cell_type": "markdown",
      "source": [
        "18. In what situations are lists preferred over dictionaries?\n",
        "- Lists are preferred over dictionaries when:\n",
        "\n",
        " 1.Order Matters: Lists maintain the order of elements, while dictionaries (before Python 3.7) do not.\n",
        "\n",
        " 2.Indexed Access: You need to access elements by position rather than by key.\n",
        "\n",
        " 3.Homogeneous Data: Storing a collection of similar items, like a list of numbers or names.\n",
        "\n",
        " 4.Simplicity: Lists are simpler and more straightforward when keys are not needed.\n"
      ],
      "metadata": {
        "id": "s1uYJiWc5eKK"
      }
    },
    {
      "cell_type": "markdown",
      "source": [
        "19. Why are dictionaries considered unordered, and how does that affect data retrieval ?\n",
        "- Dictionaries are considered unordered because they store data based on hash values of keys, not in the order of insertion (before Python 3.7). This means the arrangement of key-value pairs can vary and is not guaranteed to be consistent.\n",
        "\n",
        " However, from Python 3.7 onward, dictionaries maintain insertion order, but this is still an implementation detail, not a fundamental property.\n",
        "\n",
        " Effect on Data Retrieval:\n",
        "\n",
        " Since dictionaries are accessed by keys rather than positions, the lack of order does not affect the efficiency of data retrieval, which remains O(1). However, you cannot rely on a specific order when iterating through dictionary items (in versions before Python 3.7).\n",
        "\n",
        "\n",
        "\n",
        "\n",
        "\n",
        "\n",
        "\n"
      ],
      "metadata": {
        "id": "LeIk5E7X57co"
      }
    },
    {
      "cell_type": "markdown",
      "source": [
        "20.Explain the difference between a list and a dictionary in terms of data retrieval?\n",
        "- The main difference between a list and a dictionary in terms of data retrieval is how they access elements:\n",
        "\n",
        "  1.List Retrieval:\n",
        "\n",
        "- Uses index-based access (e.g., list[0]).\n",
        "- Time complexity is O(1) for direct access but O(n) for searching a value.\n",
        "- Suitable when you know the element's position.\n",
        "  \n",
        "  2.Dictionary Retrieval:\n",
        "\n",
        "- Uses key-based access (e.g., dict[\"key\"]).\n",
        "- Time complexity is O(1) on average due to hash tables.\n",
        "- Ideal when you need to map and retrieve data using unique identifiers (keys).\n",
        "\n"
      ],
      "metadata": {
        "id": "cAX6I_0T6OWp"
      }
    },
    {
      "cell_type": "code",
      "source": [],
      "metadata": {
        "id": "1veFCz0t6z8s"
      },
      "execution_count": null,
      "outputs": []
    },
    {
      "cell_type": "markdown",
      "source": [
        "# Practical Questions"
      ],
      "metadata": {
        "id": "0rpo3vmK71mz"
      }
    },
    {
      "cell_type": "code",
      "source": [
        "'''\n",
        "1. Write a code to create a string with your name and print it ?\n",
        "\n",
        "'''\n",
        "name = \"John\"\n",
        "print(name)\n"
      ],
      "metadata": {
        "colab": {
          "base_uri": "https://localhost:8080/"
        },
        "id": "xW1-mAL98NdB",
        "outputId": "b2da13b9-969f-4752-e8ba-a546d372d09d"
      },
      "execution_count": null,
      "outputs": [
        {
          "output_type": "stream",
          "name": "stdout",
          "text": [
            "John\n"
          ]
        }
      ]
    },
    {
      "cell_type": "code",
      "source": [
        "'''\n",
        "2. Write a code to find the length of the string \"Hello World\" ?\n",
        "'''\n",
        "string = \"Hello World\"\n",
        "length = len(string)\n",
        "print(\"Length of the string:\", length)\n",
        "\n"
      ],
      "metadata": {
        "colab": {
          "base_uri": "https://localhost:8080/"
        },
        "id": "LHbjBgIh8e2Z",
        "outputId": "01a0745b-ba05-431e-fac9-9a9bed79414e"
      },
      "execution_count": null,
      "outputs": [
        {
          "output_type": "stream",
          "name": "stdout",
          "text": [
            "Length of the string: 11\n"
          ]
        }
      ]
    },
    {
      "cell_type": "code",
      "source": [
        "'''\n",
        "3. Write a code to slice the first 3 characters from the string \"Python Programming\"?\n",
        "'''\n",
        "string = \"Python Programming\"\n",
        "sliced_string = string[:3]\n",
        "print(\"Sliced string:\", sliced_string)\n",
        "\n"
      ],
      "metadata": {
        "colab": {
          "base_uri": "https://localhost:8080/"
        },
        "id": "68JLGXhB9BnA",
        "outputId": "c22c3783-2084-47e1-c2a6-d238a7d2ca7b"
      },
      "execution_count": null,
      "outputs": [
        {
          "output_type": "stream",
          "name": "stdout",
          "text": [
            "Sliced string: Pyt\n"
          ]
        }
      ]
    },
    {
      "cell_type": "code",
      "source": [
        "'''\n",
        "4. Write a code to convert the string \"hello\" to uppercase?\n",
        "'''\n",
        "string = \"hello\"\n",
        "uppercase_string = string.upper()\n",
        "print(\"Uppercase string:\", uppercase_string)\n",
        "\n"
      ],
      "metadata": {
        "colab": {
          "base_uri": "https://localhost:8080/"
        },
        "id": "kydtqcxc9MN5",
        "outputId": "1d294f99-4f94-4b47-9fd0-e7a303e8f75d"
      },
      "execution_count": null,
      "outputs": [
        {
          "output_type": "stream",
          "name": "stdout",
          "text": [
            "Uppercase string: HELLO\n"
          ]
        }
      ]
    },
    {
      "cell_type": "code",
      "source": [
        "'''\n",
        "5. Write a code to replace the word \"apple\" with \"orange\" in the string \"I like apple\"?\n",
        "'''\n",
        "string = \"I like apple\"\n",
        "new_string = string.replace(\"apple\", \"orange\")\n",
        "print(\"Updated string:\", new_string)\n"
      ],
      "metadata": {
        "colab": {
          "base_uri": "https://localhost:8080/"
        },
        "id": "5aNfHikf9YJE",
        "outputId": "67d90f62-9f02-4b05-da73-c3e1f24a6da5"
      },
      "execution_count": null,
      "outputs": [
        {
          "output_type": "stream",
          "name": "stdout",
          "text": [
            "Updated string: I like orange\n"
          ]
        }
      ]
    },
    {
      "cell_type": "code",
      "source": [
        "'''\n",
        "6. Write a code to create a list with numbers 1 to 5 and print it ?\n",
        "\n",
        "'''\n",
        "numbers = [1, 2, 3, 4, 5]\n",
        "print(\"Number list:\", numbers)\n"
      ],
      "metadata": {
        "colab": {
          "base_uri": "https://localhost:8080/"
        },
        "id": "E8WrzWYb9j2F",
        "outputId": "243d8b07-2ab2-49f3-8722-be903aa2c649"
      },
      "execution_count": null,
      "outputs": [
        {
          "output_type": "stream",
          "name": "stdout",
          "text": [
            "Number list: [1, 2, 3, 4, 5]\n"
          ]
        }
      ]
    },
    {
      "cell_type": "code",
      "source": [
        "'''\n",
        "7. Write a code to append the number 10 to the list [1, 2, 3, 4] ?\n",
        "'''\n",
        "numbers = [1, 2, 3, 4]\n",
        "numbers.append(10)\n",
        "print(\"Updated list:\", numbers)\n",
        "\n"
      ],
      "metadata": {
        "colab": {
          "base_uri": "https://localhost:8080/"
        },
        "id": "xAJobxXC9uVz",
        "outputId": "dea7b50f-ac53-4b5c-dc9f-c51228c6d547"
      },
      "execution_count": null,
      "outputs": [
        {
          "output_type": "stream",
          "name": "stdout",
          "text": [
            "Updated list: [1, 2, 3, 4, 10]\n"
          ]
        }
      ]
    },
    {
      "cell_type": "code",
      "source": [
        "'''\n",
        "8. Write a code to remove the number 3 from the list [1, 2, 3, 4, 5]\n",
        "'''\n",
        "numbers = [1, 2, 3, 4, 5]\n",
        "numbers.remove(3)\n",
        "print(\"Updated list:\", numbers)\n",
        "\n"
      ],
      "metadata": {
        "colab": {
          "base_uri": "https://localhost:8080/"
        },
        "id": "TwCrpV25944D",
        "outputId": "addb9b0d-3ba8-4cf7-8f9e-f5fd1a251bac"
      },
      "execution_count": null,
      "outputs": [
        {
          "output_type": "stream",
          "name": "stdout",
          "text": [
            "Updated list: [1, 2, 4, 5]\n"
          ]
        }
      ]
    },
    {
      "cell_type": "code",
      "source": [
        "'''\n",
        "9. Write a code to access the second element in the list ['a', 'b', 'c', 'd'] ?\n",
        "\n",
        "'''\n",
        "my_list = ['a', 'b', 'c', 'd']\n",
        "second_element = my_list[1]  # Index 1 corresponds to the second element\n",
        "print(\"The second element is:\", second_element)\n"
      ],
      "metadata": {
        "colab": {
          "base_uri": "https://localhost:8080/"
        },
        "id": "WkXgBgaS_kmu",
        "outputId": "042dab96-4bb3-4a55-ec7c-d96706f9974b"
      },
      "execution_count": 1,
      "outputs": [
        {
          "output_type": "stream",
          "name": "stdout",
          "text": [
            "The second element is: b\n"
          ]
        }
      ]
    },
    {
      "cell_type": "code",
      "source": [
        "'''\n",
        "10. Write a code to reverse the list [10, 20, 30, 40, 50] ?\n",
        "\n",
        "'''\n",
        "my_list = [10, 20, 30, 40, 50]\n",
        "reversed_list = my_list[::-1]  # Using slicing to reverse the list\n",
        "print(\"Reversed list:\", reversed_list)\n"
      ],
      "metadata": {
        "id": "xhK-HpDG-FsJ",
        "colab": {
          "base_uri": "https://localhost:8080/"
        },
        "outputId": "5f4a6f87-ff6a-4332-9e4a-e61d6e3456b8"
      },
      "execution_count": 2,
      "outputs": [
        {
          "output_type": "stream",
          "name": "stdout",
          "text": [
            "Reversed list: [50, 40, 30, 20, 10]\n"
          ]
        }
      ]
    },
    {
      "cell_type": "code",
      "source": [
        "'''\n",
        "11. Write a code to create a tuple with the elements 100, 200, 300 and print it ?\n",
        "\n",
        "'''\n",
        "my_tuple = (100, 200, 300)\n",
        "print(\"The tuple is:\", my_tuple)\n"
      ],
      "metadata": {
        "colab": {
          "base_uri": "https://localhost:8080/"
        },
        "id": "yy8L6pLDBG0G",
        "outputId": "e7e80c77-0178-48e0-ed5f-7af0d512968b"
      },
      "execution_count": 3,
      "outputs": [
        {
          "output_type": "stream",
          "name": "stdout",
          "text": [
            "The tuple is: (100, 200, 300)\n"
          ]
        }
      ]
    },
    {
      "cell_type": "code",
      "source": [
        "'''\n",
        "12. Write a code to access the second-to-last element of the tuple ('red', 'green', 'blue', 'yellow') ?\n",
        "\n",
        "'''\n",
        "my_tuple = ('red', 'green', 'blue', 'yellow')\n",
        "second_last_element = my_tuple[-2]  # Using negative indexing\n",
        "print(\"The second-to-last element is:\", second_last_element)\n"
      ],
      "metadata": {
        "colab": {
          "base_uri": "https://localhost:8080/"
        },
        "id": "2kJv-rNlBSOh",
        "outputId": "ccc4dcde-75be-43eb-b323-792bb8a14319"
      },
      "execution_count": 4,
      "outputs": [
        {
          "output_type": "stream",
          "name": "stdout",
          "text": [
            "The second-to-last element is: blue\n"
          ]
        }
      ]
    },
    {
      "cell_type": "code",
      "source": [
        "'''\n",
        " 13. Write a code to find the minimum number in the tuple (10, 20, 5, 15)?\n",
        "\n",
        "'''\n",
        "my_tuple = (10, 20, 5, 15)\n",
        "min_number = min(my_tuple)  # Using the built-in min() function\n",
        "print(\"The minimum number is:\", min_number)\n"
      ],
      "metadata": {
        "colab": {
          "base_uri": "https://localhost:8080/"
        },
        "id": "ChfL1C-WBfq-",
        "outputId": "4ffab67e-eb16-441e-d158-c500f819457c"
      },
      "execution_count": 5,
      "outputs": [
        {
          "output_type": "stream",
          "name": "stdout",
          "text": [
            "The minimum number is: 5\n"
          ]
        }
      ]
    },
    {
      "cell_type": "code",
      "source": [
        "'''\n",
        "14. Write a code to find the index of the element \"cat\" in the tuple ('dog', 'cat', 'rabbit') ?\n",
        "\n",
        "'''\n",
        "my_tuple = ('dog', 'cat', 'rabbit')\n",
        "index_of_cat = my_tuple.index('cat')  # Using the index() method\n",
        "print(\"The index of 'cat' is:\", index_of_cat)\n"
      ],
      "metadata": {
        "colab": {
          "base_uri": "https://localhost:8080/"
        },
        "id": "kRMOjCQVB1J5",
        "outputId": "2d8ef9e3-ce37-42a7-8f5e-3b0333e9f455"
      },
      "execution_count": 6,
      "outputs": [
        {
          "output_type": "stream",
          "name": "stdout",
          "text": [
            "The index of 'cat' is: 1\n"
          ]
        }
      ]
    },
    {
      "cell_type": "code",
      "source": [
        "'''\n",
        "15. Write a code to create a tuple containing three different fruits and check if \"kiwi\" is in it ?\n",
        "\n",
        "'''\n",
        "fruits = ('apple', 'banana', 'orange')\n",
        "\n",
        "# Check if \"kiwi\" is in the tuple\n",
        "if \"kiwi\" in fruits:\n",
        "    print(\"Yes, 'kiwi' is in the tuple.\")\n",
        "else:\n",
        "    print(\"No, 'kiwi' is not in the tuple.\")\n"
      ],
      "metadata": {
        "colab": {
          "base_uri": "https://localhost:8080/"
        },
        "id": "qy8CAkpSB9cC",
        "outputId": "7e695795-960b-4d1d-aecd-5aeced5ab201"
      },
      "execution_count": 7,
      "outputs": [
        {
          "output_type": "stream",
          "name": "stdout",
          "text": [
            "No, 'kiwi' is not in the tuple.\n"
          ]
        }
      ]
    },
    {
      "cell_type": "code",
      "source": [
        "'''\n",
        "16. Write a code to create a set with the elements 'a', 'b', 'c' and print it ?\n",
        "\n",
        "'''\n",
        "my_set = {'a', 'b', 'c'}\n",
        "print(\"The set is:\", my_set)\n"
      ],
      "metadata": {
        "colab": {
          "base_uri": "https://localhost:8080/"
        },
        "id": "yNMdxU7LCY1R",
        "outputId": "7d40b933-10b3-4062-eb02-0f909287ce8b"
      },
      "execution_count": 8,
      "outputs": [
        {
          "output_type": "stream",
          "name": "stdout",
          "text": [
            "The set is: {'b', 'a', 'c'}\n"
          ]
        }
      ]
    },
    {
      "cell_type": "code",
      "source": [
        "'''\n",
        " 17. Write a code to clear all elements from the set {1, 2, 3, 4, 5}.\n",
        "\n",
        "'''\n",
        "my_set = {1, 2, 3, 4, 5}\n",
        "my_set.clear()  # Using the clear() method to remove all elements\n",
        "print(\"The set after clearing:\", my_set)\n"
      ],
      "metadata": {
        "colab": {
          "base_uri": "https://localhost:8080/"
        },
        "id": "R2HZbV6XCoDC",
        "outputId": "2aac1fbf-bfb0-4444-ea06-017bea8bf334"
      },
      "execution_count": 9,
      "outputs": [
        {
          "output_type": "stream",
          "name": "stdout",
          "text": [
            "The set after clearing: set()\n"
          ]
        }
      ]
    },
    {
      "cell_type": "code",
      "source": [
        "'''\n",
        " 18. Write a code to remove the element 4 from the set {1, 2, 3, 4}.\n",
        "\n",
        "'''\n",
        "my_set = {1, 2, 3, 4}\n",
        "my_set.discard(4)  # Using discard() to remove the element\n",
        "print(\"The set after removing 4:\", my_set)\n"
      ],
      "metadata": {
        "colab": {
          "base_uri": "https://localhost:8080/"
        },
        "id": "XHCQ6CKKCzcF",
        "outputId": "3840172d-8341-4905-92ac-21c1ba52385f"
      },
      "execution_count": 10,
      "outputs": [
        {
          "output_type": "stream",
          "name": "stdout",
          "text": [
            "The set after removing 4: {1, 2, 3}\n"
          ]
        }
      ]
    },
    {
      "cell_type": "code",
      "source": [
        "'''\n",
        " 19. Write a code to find the union of two sets {1, 2, 3} and {3, 4, 5}.\n",
        "\n",
        "'''\n",
        "set1 = {1, 2, 3}\n",
        "set2 = {3, 4, 5}\n",
        "\n",
        "# Finding the union using the union() method\n",
        "union_set = set1.union(set2)\n",
        "\n",
        "print(\"The union of the sets is:\", union_set)\n"
      ],
      "metadata": {
        "colab": {
          "base_uri": "https://localhost:8080/"
        },
        "id": "wEaWI5bZDBYa",
        "outputId": "8ccdef6a-e407-4eef-ecdd-ecc50f5def35"
      },
      "execution_count": 11,
      "outputs": [
        {
          "output_type": "stream",
          "name": "stdout",
          "text": [
            "The union of the sets is: {1, 2, 3, 4, 5}\n"
          ]
        }
      ]
    },
    {
      "cell_type": "code",
      "source": [
        "'''\n",
        "20. Write a code to find the intersection of two sets {1, 2, 3} and {2, 3, 4}.\n",
        "\n",
        "'''\n",
        "set1 = {1, 2, 3}\n",
        "set2 = {2, 3, 4}\n",
        "\n",
        "# Finding the intersection using the intersection() method\n",
        "intersection_set = set1.intersection(set2)\n",
        "\n",
        "print(\"The intersection of the sets is:\", intersection_set)\n",
        "\n"
      ],
      "metadata": {
        "colab": {
          "base_uri": "https://localhost:8080/"
        },
        "id": "Bnka6jXmDI7N",
        "outputId": "e0b17730-2586-4c92-c475-7d9655453e52"
      },
      "execution_count": 12,
      "outputs": [
        {
          "output_type": "stream",
          "name": "stdout",
          "text": [
            "The intersection of the sets is: {2, 3}\n"
          ]
        }
      ]
    },
    {
      "cell_type": "code",
      "source": [
        "'''\n",
        " 21. Write a code to create a dictionary with the keys \"name\", \"age\", and \"city\", and print it.\n",
        "\n",
        "'''\n",
        "my_dict = {\n",
        "    \"name\": \"John\",\n",
        "    \"age\": 25,\n",
        "    \"city\": \"New York\"\n",
        "}\n",
        "\n",
        "print(\"The dictionary is:\", my_dict)\n"
      ],
      "metadata": {
        "colab": {
          "base_uri": "https://localhost:8080/"
        },
        "id": "kAW2C5e_Dc1x",
        "outputId": "0eb8ab66-9a41-41ce-f3d3-b92864d2328a"
      },
      "execution_count": 13,
      "outputs": [
        {
          "output_type": "stream",
          "name": "stdout",
          "text": [
            "The dictionary is: {'name': 'John', 'age': 25, 'city': 'New York'}\n"
          ]
        }
      ]
    },
    {
      "cell_type": "code",
      "source": [
        "'''\n",
        " 22. Write a code to add a new key-value pair \"country\": \"USA\" to the dictionary {'name': 'John', 'age': 25}.\n",
        "\n",
        "'''\n",
        "my_dict = {'name': 'John', 'age': 25}\n",
        "\n",
        "# Adding a new key-value pair\n",
        "my_dict['country'] = 'USA'\n",
        "\n",
        "print(\"The updated dictionary is:\", my_dict)\n"
      ],
      "metadata": {
        "colab": {
          "base_uri": "https://localhost:8080/"
        },
        "id": "dpVshOBjDkgT",
        "outputId": "84ed05af-dd41-4c48-b46d-45c2c243b742"
      },
      "execution_count": 14,
      "outputs": [
        {
          "output_type": "stream",
          "name": "stdout",
          "text": [
            "The updated dictionary is: {'name': 'John', 'age': 25, 'country': 'USA'}\n"
          ]
        }
      ]
    },
    {
      "cell_type": "code",
      "source": [
        "'''\n",
        " 23. Write a code to access the value associated with the key \"name\" in the dictionary {'name': 'Alice', 'age': 30}.\n",
        "\n",
        "'''\n",
        "my_dict = {'name': 'Alice', 'age': 30}\n",
        "\n",
        "# Accessing the value using the key\n",
        "name_value = my_dict['name']\n",
        "\n",
        "print(\"The value associated with the key 'name' is:\", name_value)\n"
      ],
      "metadata": {
        "colab": {
          "base_uri": "https://localhost:8080/"
        },
        "id": "tw0ML2n8D5Kv",
        "outputId": "1c72fbaf-8b3d-420a-889d-7275129bdcf3"
      },
      "execution_count": 15,
      "outputs": [
        {
          "output_type": "stream",
          "name": "stdout",
          "text": [
            "The value associated with the key 'name' is: Alice\n"
          ]
        }
      ]
    },
    {
      "cell_type": "code",
      "source": [
        "'''\n",
        " 24. Write a code to remove the key \"age\" from the dictionary {'name': 'Bob', 'age': 22, 'city': 'New York'}.\n",
        "\n",
        "'''\n",
        "my_dict = {'name': 'Bob', 'age': 22, 'city': 'New York'}\n",
        "\n",
        "# Removing the key \"age\" using the pop() method\n",
        "my_dict.pop('age')\n",
        "\n",
        "print(\"The dictionary after removing 'age':\", my_dict)\n"
      ],
      "metadata": {
        "colab": {
          "base_uri": "https://localhost:8080/"
        },
        "id": "uGmHuUXjEBMx",
        "outputId": "aa2ea742-417b-45fb-f954-0081c6adc4db"
      },
      "execution_count": 16,
      "outputs": [
        {
          "output_type": "stream",
          "name": "stdout",
          "text": [
            "The dictionary after removing 'age': {'name': 'Bob', 'city': 'New York'}\n"
          ]
        }
      ]
    },
    {
      "cell_type": "code",
      "source": [
        "'''\n",
        " 25. Write a code to check if the key \"city\" exists in the dictionary {'name': 'Alice', 'city': 'Paris'}.\n",
        "\n",
        "'''\n",
        "my_dict = {'name': 'Alice', 'city': 'Paris'}\n",
        "\n",
        "# Checking if the key \"city\" exists\n",
        "if \"city\" in my_dict:\n",
        "    print(\"Yes, the key 'city' exists in the dictionary.\")\n",
        "else:\n",
        "    print(\"No, the key 'city' does not exist in the dictionary.\")\n"
      ],
      "metadata": {
        "colab": {
          "base_uri": "https://localhost:8080/"
        },
        "id": "2kbLnAMhEZ0k",
        "outputId": "496898c1-4d38-42e6-b380-e1cbf83ed893"
      },
      "execution_count": 17,
      "outputs": [
        {
          "output_type": "stream",
          "name": "stdout",
          "text": [
            "Yes, the key 'city' exists in the dictionary.\n"
          ]
        }
      ]
    },
    {
      "cell_type": "code",
      "source": [
        "'''\n",
        " 26. Write a code to create a list, a tuple, and a dictionary, and print them all.\n",
        "\n",
        "'''\n",
        "# Creating a list\n",
        "my_list = [10, 20, 30]\n",
        "\n",
        "# Creating a tuple\n",
        "my_tuple = ('apple', 'banana', 'cherry')\n",
        "\n",
        "# Creating a dictionary\n",
        "my_dict = {'name': 'John', 'age': 25, 'city': 'New York'}\n",
        "\n",
        "# Printing all three\n",
        "print(\"List:\", my_list)\n",
        "print(\"Tuple:\", my_tuple)\n",
        "print(\"Dictionary:\", my_dict)\n"
      ],
      "metadata": {
        "colab": {
          "base_uri": "https://localhost:8080/"
        },
        "id": "WYmsOckbEk1H",
        "outputId": "ce40304f-0cb6-43e8-8faf-7961c0686ea0"
      },
      "execution_count": 18,
      "outputs": [
        {
          "output_type": "stream",
          "name": "stdout",
          "text": [
            "List: [10, 20, 30]\n",
            "Tuple: ('apple', 'banana', 'cherry')\n",
            "Dictionary: {'name': 'John', 'age': 25, 'city': 'New York'}\n"
          ]
        }
      ]
    },
    {
      "cell_type": "code",
      "source": [
        "'''\n",
        "27. Write a code to create a list of 5 random numbers between 1 and 100, sort it in ascending order, and print the resuult ?\n",
        "'''\n",
        "import random\n",
        "\n",
        "# Generating a list of 5 random numbers between 1 and 100\n",
        "random_list = random.sample(range(1, 101), 5)\n",
        "\n",
        "# Sorting the list in ascending order\n",
        "random_list.sort()\n",
        "\n",
        "print(\"Sorted list of random numbers:\", random_list)\n"
      ],
      "metadata": {
        "colab": {
          "base_uri": "https://localhost:8080/"
        },
        "id": "B491jOAuE0uy",
        "outputId": "ba0f4a84-c5e2-452e-b8d7-07f45b7048e2"
      },
      "execution_count": 19,
      "outputs": [
        {
          "output_type": "stream",
          "name": "stdout",
          "text": [
            "Sorted list of random numbers: [34, 71, 76, 83, 93]\n"
          ]
        }
      ]
    },
    {
      "cell_type": "code",
      "source": [
        "'''\n",
        "28. Write a code to create a list with strings and print the element at the third index.\n",
        "\n",
        "'''\n",
        "# Creating a list with strings\n",
        "my_list = [\"apple\", \"banana\", \"cherry\", \"date\", \"fig\"]\n",
        "\n",
        "# Printing the element at the third index\n",
        "print(\"Element at the third index:\", my_list[3])\n"
      ],
      "metadata": {
        "colab": {
          "base_uri": "https://localhost:8080/"
        },
        "id": "jzXFCozRFGSb",
        "outputId": "854ff466-2bc1-448b-cc92-6150d8d5f2f3"
      },
      "execution_count": 20,
      "outputs": [
        {
          "output_type": "stream",
          "name": "stdout",
          "text": [
            "Element at the third index: date\n"
          ]
        }
      ]
    },
    {
      "cell_type": "code",
      "source": [
        "'''\n",
        " 29. Write a code to combine two dictionaries into one and print the result.\n",
        "\n",
        "'''\n",
        "dict1 = {'name': 'Alice', 'age': 25}\n",
        "dict2 = {'city': 'Paris', 'country': 'France'}\n",
        "\n",
        "# Combining the dictionaries using the update() method\n",
        "dict1.update(dict2)\n",
        "\n",
        "print(\"Combined dictionary:\", dict1)\n"
      ],
      "metadata": {
        "colab": {
          "base_uri": "https://localhost:8080/"
        },
        "id": "LuzV4BZ9FPZQ",
        "outputId": "2705d9e9-5091-4aca-86ee-4d1829685b86"
      },
      "execution_count": 21,
      "outputs": [
        {
          "output_type": "stream",
          "name": "stdout",
          "text": [
            "Combined dictionary: {'name': 'Alice', 'age': 25, 'city': 'Paris', 'country': 'France'}\n"
          ]
        }
      ]
    },
    {
      "cell_type": "code",
      "source": [
        "'''\n",
        " 30. Write a code to convert a list of strings into a set.\n",
        "\n",
        "'''\n",
        "# Creating a list of strings\n",
        "my_list = [\"apple\", \"banana\", \"cherry\", \"apple\", \"banana\"]\n",
        "\n",
        "# Converting the list to a set\n",
        "my_set = set(my_list)\n",
        "\n",
        "print(\"Set of unique strings:\", my_set)\n"
      ],
      "metadata": {
        "colab": {
          "base_uri": "https://localhost:8080/"
        },
        "id": "PJ2acU1vFbvy",
        "outputId": "c64badca-65f2-4f7d-dac3-447d9c31af99"
      },
      "execution_count": 22,
      "outputs": [
        {
          "output_type": "stream",
          "name": "stdout",
          "text": [
            "Set of unique strings: {'apple', 'banana', 'cherry'}\n"
          ]
        }
      ]
    },
    {
      "cell_type": "code",
      "source": [],
      "metadata": {
        "id": "ycbO-OZcFjWK"
      },
      "execution_count": null,
      "outputs": []
    }
  ]
}